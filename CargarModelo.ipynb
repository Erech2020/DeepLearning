{
  "nbformat": 4,
  "nbformat_minor": 0,
  "metadata": {
    "colab": {
      "name": "CargarModelo.ipynb",
      "provenance": [],
      "private_outputs": true,
      "collapsed_sections": [],
      "authorship_tag": "ABX9TyNa9jpoxxPK5upl06pq62Ww",
      "include_colab_link": true
    },
    "kernelspec": {
      "name": "python3",
      "display_name": "Python 3"
    }
  },
  "cells": [
    {
      "cell_type": "markdown",
      "metadata": {
        "id": "view-in-github",
        "colab_type": "text"
      },
      "source": [
        "<a href=\"https://colab.research.google.com/github/Erech2020/DeepLearning/blob/master/CargarModelo.ipynb\" target=\"_parent\"><img src=\"https://colab.research.google.com/assets/colab-badge.svg\" alt=\"Open In Colab\"/></a>"
      ]
    },
    {
      "cell_type": "markdown",
      "metadata": {
        "id": "qjfZJGeG3nY4",
        "colab_type": "text"
      },
      "source": [
        "<h1> Cargar el modelo y predecir\n",
        "</h1>"
      ]
    },
    {
      "cell_type": "code",
      "metadata": {
        "id": "2OdFaYGG3eMA",
        "colab_type": "code",
        "colab": {}
      },
      "source": [
        "from google.colab import drive\n",
        "drive.mount('/content/drive')"
      ],
      "execution_count": 0,
      "outputs": []
    },
    {
      "cell_type": "code",
      "metadata": {
        "id": "ZjHiL_6u3h5h",
        "colab_type": "code",
        "colab": {}
      },
      "source": [
        "%tensorflow_version 1.x\n",
        "%cd /content/drive/My Drive/ColabNotebooks\n",
        "#%ls\n",
        "%pwd"
      ],
      "execution_count": 0,
      "outputs": []
    },
    {
      "cell_type": "code",
      "metadata": {
        "id": "nyTZ36Jx3h80",
        "colab_type": "code",
        "colab": {}
      },
      "source": [
        "import numpy as np\n",
        "from tensorflow.keras.preprocessing.image import load_img, img_to_array\n",
        "from tensorflow.keras.models import load_model\n",
        "import matplotlib.pyplot as plt\n",
        "import tensorflow.keras\n",
        "import csv\n",
        "import pickle\n",
        "\"\"\"import numpy as np\n",
        "from keras.preprocessing.image import load_img, img_to_array\n",
        "from keras.models import load_model\n",
        "import matplotlib.pyplot as plt\n",
        "import keras\n",
        "import csv\n",
        "import pickle\"\"\""
      ],
      "execution_count": 0,
      "outputs": []
    },
    {
      "cell_type": "code",
      "metadata": {
        "id": "bz0-AGhQ3h_5",
        "colab_type": "code",
        "colab": {}
      },
      "source": [
        "modelo_recup = load_model('./VGG16/modelo.h5')\n",
        "modelo_recup.load_weights('./VGG16/pesos.h5')\n",
        "\n",
        "labels_recup=list()\n",
        "archivo = open(\"./VGG16/labels.txt\", \"r\") \n",
        "for linea in archivo.readlines():\n",
        "  labels_recup.append(linea[:-1]) \n",
        "archivo.close()\n",
        "\n",
        "with open('./VGG16/mod_compi_history.txt', 'rb') as f:  \n",
        "  modeloEntrenado_history = pickle.load(f)"
      ],
      "execution_count": 0,
      "outputs": []
    },
    {
      "cell_type": "code",
      "metadata": {
        "id": "u3M9wkLU3iCr",
        "colab_type": "code",
        "colab": {}
      },
      "source": [
        "modelo_recup.summary()"
      ],
      "execution_count": 0,
      "outputs": []
    },
    {
      "cell_type": "code",
      "metadata": {
        "id": "SAPTCCrK3iFn",
        "colab_type": "code",
        "colab": {}
      },
      "source": [
        "from tensorflow.keras import backend as k\n",
        "np.random.seed(2)\n",
        "ruta_data_validacion = './data/validacion'\n",
        "longitud, altura = 224,224  \n",
        "nclases = 242"
      ],
      "execution_count": 0,
      "outputs": []
    },
    {
      "cell_type": "code",
      "metadata": {
        "id": "oVKdjXg93iIJ",
        "colab_type": "code",
        "colab": {}
      },
      "source": [
        "def nombre_corto (nombres):\n",
        "    nombres_cortos=list()\n",
        "    for nombre in nombres:\n",
        "        cad=\"\"\n",
        "        vacio=0\n",
        "        for i in nombre[4:]:\n",
        "            if(i!=\"_\" or i!=\" \" and vacio<=2):\n",
        "                \n",
        "                cad=cad+i\n",
        "                if(vacio==2):\n",
        "                    cad=cad+\".\"\n",
        "                    break\n",
        "            if(i==\"_\" or i==\" \"):\n",
        "                vacio=vacio+1 \n",
        "        nombres_cortos.append(cad)\n",
        "    return nombres_cortos"
      ],
      "execution_count": 0,
      "outputs": []
    },
    {
      "cell_type": "code",
      "metadata": {
        "id": "9mIM-YFl7TdB",
        "colab_type": "code",
        "colab": {}
      },
      "source": [
        "def predicciones_nombres(lista_predicciones,lista_etiquetas,valor_minimo=0.3):\n",
        "    nombre_01=\"No identificado\"\n",
        "    nombre_02=\"No identificado\"\n",
        "    da01=0.0\n",
        "    da02=0.0\n",
        "    for i,data in enumerate(lista_predicciones):\n",
        "        if(data>=valor_minimo):\n",
        "            if(data>=da01):#intercambio de variables\n",
        "                aux01=da01\n",
        "                da01=data\n",
        "                aux02=nombre_01\n",
        "                nombre_01=lista_etiquetas[i] \n",
        "                da02=aux01\n",
        "                nombre_02=aux02\n",
        "    return (nombre_01,da01),(nombre_02,da02)"
      ],
      "execution_count": 0,
      "outputs": []
    },
    {
      "cell_type": "code",
      "metadata": {
        "id": "niV16avC3iNU",
        "colab_type": "code",
        "colab": {}
      },
      "source": [
        "import matplotlib.pyplot as plt\n",
        "\n",
        "image_path = './VGG16/Negativos/UNAMBA_100687.jpeg'#Ojo con Lena, IMG_20181225_151628.jpg\n",
        "imagen=load_img(image_path, target_size=(longitud, altura),color_mode=\"rgb\") #\"grayscale\"   \n",
        "#x.show() #Imprime el numero en una ventana\n",
        "\n",
        "plt.imshow(imagen, cmap='gray_r')\n",
        "plt.axis('off')\n",
        "\n",
        "imagen=img_to_array(imagen)\n",
        "imagen=np.expand_dims(imagen,axis=0)\n",
        "imagen /= 255.\n",
        "\n",
        "arreglo= modelo_recup.predict(imagen)#PREDICCION\n",
        "prediccion_array=list(arreglo[0])\n",
        "\n",
        "print(prediccion_array)\n",
        "print(\"Minimo: \",min(prediccion_array))\n",
        "print(\"Máximo: \",max(prediccion_array))\n",
        "n01,n02 = predicciones_nombres(prediccion_array,labels_recup,valor_minimo=0.05)\n",
        "\n",
        "print('Etiquetas: ',labels_recup)\n",
        "\n",
        "print(\"Primera prediccion: \",n01[0], \" al \",n01[1]*100,\"%\")\n",
        "print(\"Segunda Prediccion: \",n02[0], \" al \",n02[1]*100,\"%\")"
      ],
      "execution_count": 0,
      "outputs": []
    },
    {
      "cell_type": "code",
      "metadata": {
        "id": "c7HC_UGB3iQE",
        "colab_type": "code",
        "colab": {}
      },
      "source": [
        "import os\n",
        "import os.path\n",
        "direccion='./VGG16/Negativos/'\n",
        "listaArchivos=os.listdir(direccion)\n",
        "#print(listaArchivos)\n",
        "falsos_positivos=0\n",
        "menor=100\n",
        "for i, item in enumerate(listaArchivos):\n",
        "  ruta=direccion+'/'+item\n",
        "  imagen=load_img(ruta, target_size=(longitud, altura),color_mode=\"rgb\")    \n",
        "  imagen=img_to_array(imagen)\n",
        "  imagen=np.expand_dims(imagen,axis=0)\n",
        "  imagen /= 255.\n",
        "  arreglo= modelo_recup.predict(imagen)#PREDICCION\n",
        "  prediccion_array=list(arreglo[0])\n",
        "  n01,n02 = predicciones_nombres(prediccion_array,labels_recup,valor_minimo=0.05)\n",
        "  print(item)\n",
        "  print(\"Primera prediccion: \",n01[0], \" al \",n01[1]*100,\"%\")\n",
        "  print(\"Segunda Prediccion: \",n02[0], \" al \",n02[1]*100,\"%\")\n",
        "  print(i,\" ======================\")\n",
        "  if n01[1] < 0.15 :\n",
        "    falsos_positivos = falsos_positivos +1\n",
        "  if n01[1] < menor:\n",
        "    menor=n01[1]\n",
        "print(\"Falsos positivos: \",falsos_positivos, \"de: \",len(listaArchivos), \" Negativos\")\n",
        "print(\"El menor valor de todos: \",menor*100,\" %\")"
      ],
      "execution_count": 0,
      "outputs": []
    },
    {
      "cell_type": "markdown",
      "metadata": {
        "id": "oBBkun6v4L_l",
        "colab_type": "text"
      },
      "source": [
        "<h1>Procesamiento de datos y gráficas </h1>"
      ]
    },
    {
      "cell_type": "code",
      "metadata": {
        "id": "17RvUv5j3iUz",
        "colab_type": "code",
        "colab": {}
      },
      "source": [
        "epocas_ =14  #epocas entrenadas\n",
        "plt.figure(0)\n",
        "plt.plot(modeloEntrenado_history['acc'],'r')\n",
        "plt.plot(modeloEntrenado_history['val_acc'],'g')\n",
        "plt.xticks(np.arange(0, epocas_, 1.0)) #numero de epocas\n",
        "plt.rcParams['figure.figsize'] = (8, 6)\n",
        "plt.xlabel(\"Num of Epochs\")\n",
        "plt.ylabel(\"Accuracy\")\n",
        "plt.title(\"Training Accuracy vs Validation Accuracy\")\n",
        "plt.legend(['train','validation'])\n",
        "\n",
        "plt.figure(1)\n",
        "plt.plot(modeloEntrenado_history['loss'],'r')\n",
        "plt.plot(modeloEntrenado_history['val_loss'],'g')\n",
        "plt.xticks(np.arange(0, epocas_, 1.0))\n",
        "plt.rcParams['figure.figsize'] = (8, 6)\n",
        "plt.xlabel(\"Num of Epochs\")\n",
        "plt.ylabel(\"Loss\")\n",
        "plt.title(\"Training Loss vs Validation Loss\")\n",
        "plt.legend(['train','validation'])\n",
        "\n",
        "plt.figure(2)\n",
        "plt.plot(modeloEntrenado_history['mean_squared_error'],'r')\n",
        "plt.plot(modeloEntrenado_history['val_mean_squared_error'],'g')\n",
        "plt.xticks(np.arange(0, epocas_, 1.0))\n",
        "plt.rcParams['figure.figsize'] = (8, 6)\n",
        "plt.xlabel(\"Num of Epochs\")\n",
        "plt.ylabel(\"MSE\")\n",
        "plt.title(\"Mean Squared Error vs Validation Mean Squared Error\")\n",
        "plt.legend(['train','validation'])\n",
        " \n",
        "plt.show()"
      ],
      "execution_count": 0,
      "outputs": []
    },
    {
      "cell_type": "code",
      "metadata": {
        "id": "OgIszFQ-3iXX",
        "colab_type": "code",
        "colab": {}
      },
      "source": [
        "from tensorflow.keras.preprocessing.image import ImageDataGenerator\n",
        "validacion_datagen = ImageDataGenerator(rescale = 1. / 255)\n",
        "\n",
        "validacion_generador = validacion_datagen.flow_from_directory(\n",
        "    ruta_data_validacion,     #ruta de la carpeta de imagenes validacion\n",
        "    target_size=(altura, longitud),\n",
        "    color_mode='rgb',#'grayscale'\n",
        "    batch_size=1,#batch_size,\n",
        "    class_mode='categorical',  #None, para devolver solo las imágenes\n",
        "    shuffle = False,           #se requiere mostrar en orden las imagenes de salida\n",
        "    seed = 42) "
      ],
      "execution_count": 0,
      "outputs": []
    },
    {
      "cell_type": "code",
      "metadata": {
        "id": "pDlIXOpv3iS7",
        "colab_type": "code",
        "colab": {}
      },
      "source": [
        "pred = modelo_recup.predict(validacion_generador, steps=None, max_queue_size=10, workers=200, use_multiprocessing=True, verbose=1)\n",
        "predicted = np.argmax(pred, axis=1)"
      ],
      "execution_count": 0,
      "outputs": []
    },
    {
      "cell_type": "code",
      "metadata": {
        "id": "Osx0SjsT3iLX",
        "colab_type": "code",
        "colab": {}
      },
      "source": [
        "from sklearn.metrics import confusion_matrix, classification_report, accuracy_score, recall_score\n",
        "import pandas as pd\n",
        "import numpy as np\n",
        "import seaborn as sn\n",
        "import matplotlib.pyplot as plt\n",
        "\n",
        "x=validacion_generador.classes                         \n",
        "cm = confusion_matrix(x, predicted)\n",
        "accurancy=accuracy_score(x,predicted)\n",
        "recall=recall_score(x, predicted, average='macro')\n",
        "print(\"Accurancy: \",accurancy)\n",
        "print(\"Recall: \",recall)"
      ],
      "execution_count": 0,
      "outputs": []
    },
    {
      "cell_type": "code",
      "metadata": {
        "id": "XzPNs7LL4YE4",
        "colab_type": "code",
        "colab": {}
      },
      "source": [
        "nombre_clases = nombre_corto(labels_recup)\n",
        "df_cm = pd.DataFrame(cm,nombre_clases, nombre_clases) \n",
        "#plt.figure(figsize = (60,60))  #tamaño de la imagen longitud y altura\n",
        "#sn.set(font_scale=0.8) # tamaño de las clases\n",
        "#grafica=sn.heatmap(df_cm,cmap='coolwarm',annot=True, annot_kws={\"size\": 9},cbar=False)\n",
        "#grafica.set(xlabel='Predicciones',ylabel='Datos Originales')\n",
        "#plt.show()"
      ],
      "execution_count": 0,
      "outputs": []
    },
    {
      "cell_type": "code",
      "metadata": {
        "id": "PWPvjOF94dOu",
        "colab_type": "code",
        "colab": {}
      },
      "source": [
        "#guardar la matriz de confusion\n",
        "#df_cm.to_csv('./carpeta/matrizConfusion.csv')# guardar la matriz de conf"
      ],
      "execution_count": 0,
      "outputs": []
    },
    {
      "cell_type": "code",
      "metadata": {
        "id": "jlft-3m94dR6",
        "colab_type": "code",
        "colab": {}
      },
      "source": [
        "import pickle\n",
        "import numpy as np \n",
        "import csv\n",
        "reporte_clasif=classification_report(validacion_generador.classes, predicted, target_names=nombre_clases,output_dict=True)\n",
        "#reporte = pd.DataFrame(reporte_clasif,range(242),range(1))#,columns=['Names', 'Precision', 'Recall','F1-Score','Suport']) \n",
        "#print(reporte_clasif)"
      ],
      "execution_count": 0,
      "outputs": []
    },
    {
      "cell_type": "code",
      "metadata": {
        "id": "MGw2-hFx4dU2",
        "colab_type": "code",
        "colab": {}
      },
      "source": [
        "import pandas as pd\n",
        "#dataform=pd.DataFrame.from_dict(data=reporte_clasif).transpose()\n",
        "#dataform.to_csv('./carpeta/reporteF.csv', header=reporte_clasif.keys()) "
      ],
      "execution_count": 0,
      "outputs": []
    },
    {
      "cell_type": "code",
      "metadata": {
        "id": "xCeQ2FtS4daA",
        "colab_type": "code",
        "colab": {}
      },
      "source": [
        "evaluacionDelModelo=modelo_recup.evaluate_generator(validacion_generador, steps=None, max_queue_size=10, workers=100, use_multiprocessing=True)\n",
        "print(evaluacionDelModelo)"
      ],
      "execution_count": 0,
      "outputs": []
    },
    {
      "cell_type": "markdown",
      "metadata": {
        "id": "LCwEZH3Z4pul",
        "colab_type": "text"
      },
      "source": [
        "<h1>Comparar todos los entrenamientos</h1> "
      ]
    },
    {
      "cell_type": "code",
      "metadata": {
        "id": "APBwWfru4tOi",
        "colab_type": "code",
        "colab": {}
      },
      "source": [
        "import matplotlib.pyplot as plt\n",
        "\n",
        "import pickle\n",
        "with open('./VGG16/mod_compi_history.txt', 'rb') as f:  \n",
        "  vgg16_history = pickle.load(f)\n",
        "\n",
        "with open('./VGG16UNAMBA/mod_compi_history.txt', 'rb') as f:  \n",
        "  vgg16_Unamba_history = pickle.load(f)\n",
        "\n",
        "with open('./denseNet121/mod_compi_history.txt', 'rb') as f:  \n",
        "  DenseNet121_history = pickle.load(f)\n",
        "\n",
        "with open('./DenseNet121UNAMBA/mod_compi_history.txt', 'rb') as f:  \n",
        "  DenseNet121_Unamba_history = pickle.load(f)"
      ],
      "execution_count": 0,
      "outputs": []
    },
    {
      "cell_type": "code",
      "metadata": {
        "id": "bYlYw5rg4dfp",
        "colab_type": "code",
        "colab": {}
      },
      "source": [
        "import numpy as np \n",
        "plt.figure(0)\n",
        "plt.plot(vgg16_history['val_acc'],'r')\n",
        "plt.plot(vgg16_Unamba_history['val_acc'],'b') \n",
        "plt.plot(DenseNet121_history['val_acc'],'y')   \n",
        "plt.plot(DenseNet121_Unamba_history['val_acc'],'g')  \n",
        "\n",
        "plt.xticks(np.arange(0, 16, 2.0))  \n",
        "plt.rcParams['figure.figsize'] = (8, 6)  \n",
        "plt.xlabel(\"Num of Epochs\")  \n",
        "plt.ylabel(\"Accuracy\")  \n",
        "plt.title(\"Models and their workouts\")  \n",
        "plt.legend(['VGG16','VGG16UNAMBA','DenseNet121','DenseNet121UNAMBA'])  "
      ],
      "execution_count": 0,
      "outputs": []
    }
  ]
}